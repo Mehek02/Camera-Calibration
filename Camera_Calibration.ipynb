{
 "cells": [
  {
   "cell_type": "code",
   "execution_count": 1,
   "id": "5069e7e0",
   "metadata": {},
   "outputs": [],
   "source": [
    "import numpy as np\n",
    "import cv2\n",
    "import glob\n",
    "import os"
   ]
  },
  {
   "cell_type": "code",
   "execution_count": 2,
   "id": "96fffdfb",
   "metadata": {},
   "outputs": [],
   "source": [
    "path = \Select/\""
   ]
  },
  {
   "cell_type": "code",
   "execution_count": 3,
   "id": "0b93fedb",
   "metadata": {},
   "outputs": [
    {
     "name": "stdout",
     "output_type": "stream",
     "text": [
      " Camera matrix:\n",
      "[[1.84052535e+03 0.00000000e+00 8.74620378e+02]\n",
      " [0.00000000e+00 1.86826980e+03 5.17172938e+02]\n",
      " [0.00000000e+00 0.00000000e+00 1.00000000e+00]]\n",
      "\n",
      " Distortion coefficient:\n",
      "[[-0.77241047  0.67250537 -0.00383041  0.01409687 -0.33413969]]\n",
      "\n",
      " Rotation Vectors:\n",
      "(array([[0.0592898 ],\n",
      "       [0.13422026],\n",
      "       [0.00350891]]),)\n",
      "\n",
      " Translation Vectors:\n",
      "(array([[ 7.16392043],\n",
      "       [-3.04966885],\n",
      "       [19.03320758]]),)\n"
     ]
    }
   ],
   "source": [
    "# Define the dimensions of checkerboard\n",
    "CHECKERBOARD = (5,5)\n",
    "\n",
    "\n",
    "# stop the iteration when specified\n",
    "# accuracy, epsilon, is reached or\n",
    "# specified number of iterations are completed.\n",
    "criteria = (cv2.TERM_CRITERIA_EPS +\n",
    "\t\t\tcv2.TERM_CRITERIA_MAX_ITER, 30, 0.001)\n",
    "\n",
    "\n",
    "# Vector for 3D points\n",
    "threedpoints = []\n",
    "\n",
    "# Vector for 2D points\n",
    "twodpoints = []\n",
    "\n",
    "\n",
    "# 3D points real world coordinates\n",
    "objectp3d = np.zeros((1, CHECKERBOARD[0]\n",
    "\t\t\t\t\t* CHECKERBOARD[1],\n",
    "\t\t\t\t\t3), np.float32)\n",
    "objectp3d[0, :, :2] = np.mgrid[0:CHECKERBOARD[0],\n",
    "\t\t\t\t\t\t\t0:CHECKERBOARD[1]].T.reshape(-1, 2)\n",
    "prev_img_shape = None\n",
    "\n",
    "\n",
    "# Extracting path of individual image stored\n",
    "# in a given directory. Since no path is\n",
    "# specified, it will take current directory\n",
    "# jpg files alone\n",
    "images = glob.glob('/frame1269.jpg')\n",
    "\n",
    "for filename in images:\n",
    "\timage = cv2.imread(filename)\n",
    "\tgrayColor = cv2.cvtColor(image, cv2.COLOR_BGR2GRAY)\n",
    "\n",
    "\t# Find the chess board corners\n",
    "\t# If desired number of corners are\n",
    "\t# found in the image then ret = true\n",
    "\tret, corners = cv2.findChessboardCorners(\n",
    "\t\t\t\t\tgrayColor, CHECKERBOARD,\n",
    "\t\t\t\t\tcv2.CALIB_CB_ADAPTIVE_THRESH\n",
    "\t\t\t\t\t+ cv2.CALIB_CB_FAST_CHECK +\n",
    "\t\t\t\t\tcv2.CALIB_CB_NORMALIZE_IMAGE)\n",
    "\n",
    "\t# If desired number of corners can be detected then,\n",
    "\t# refine the pixel coordinates and display\n",
    "\t# them on the images of checker board\n",
    "\tif ret == True:\n",
    "\t\tthreedpoints.append(objectp3d)\n",
    "\n",
    "\t\t# Refining pixel coordinates\n",
    "\t\t# for given 2d points.\n",
    "\t\tcorners2 = cv2.cornerSubPix(\n",
    "\t\t\tgrayColor, corners, (11,11), (-1, -1), criteria)\n",
    "\n",
    "\t\ttwodpoints.append(corners2)\n",
    "        \n",
    "\n",
    "\t\t# Draw and display the corners\n",
    "\t\timage = cv2.drawChessboardCorners(image,\n",
    "\t\t\t\t\t\t\t\t\t\tCHECKERBOARD,\n",
    "\t\t\t\t\t\t\t\t\t\tcorners2, ret)\n",
    "\n",
    "\tcv2.imwrite(path + '1269(1).jpg', image)\n",
    "\n",
    "h, w = image.shape[:2]\n",
    "\n",
    "\n",
    "# Perform camera calibration by\n",
    "# passing the value of above found out 3D points (threedpoints)\n",
    "# and its corresponding pixel coordinates of the\n",
    "# detected corners (twodpoints)\n",
    "ret, matrix, distortion, r_vecs, t_vecs = cv2.calibrateCamera(\n",
    "\tthreedpoints, twodpoints, grayColor.shape[::-1], None, None)\n",
    "\n",
    "\n",
    "# Displaying required output\n",
    "print(\" Camera matrix:\")\n",
    "print(matrix)\n",
    "\n",
    "print(\"\\n Distortion coefficient:\")\n",
    "print(distortion)\n",
    "\n",
    "print(\"\\n Rotation Vectors:\")\n",
    "print(r_vecs)\n",
    "\n",
    "print(\"\\n Translation Vectors:\")\n",
    "print(t_vecs)"
   ]
  },
  {
   "cell_type": "code",
   "execution_count": 4,
   "id": "c606ac68",
   "metadata": {},
   "outputs": [],
   "source": [
    "img = cv2.imread('/frame1269.jpg')\n",
    "h, w = img.shape[:2]\n",
    "newcameramtx, roi = cv2.getOptimalNewCameraMatrix(matrix, distortion, (w,h), 1, (w,h))"
   ]
  },
  {
   "cell_type": "code",
   "execution_count": 5,
   "id": "680b27ac",
   "metadata": {},
   "outputs": [
    {
     "data": {
      "text/plain": [
       "True"
      ]
     },
     "execution_count": 5,
     "metadata": {},
     "output_type": "execute_result"
    }
   ],
   "source": [
    "# undistort using cv.undistort()\n",
    "dst = cv2.undistort(img, matrix, distortion, None, newcameramtx)\n",
    "# crop the image\n",
    "x, y, w, h = roi\n",
    "dst = dst[y:y+h, x:x+w]\n",
    "cv2.imwrite(path +'1269(2).jpg', dst)"
   ]
  },
  {
   "cell_type": "code",
   "execution_count": 6,
   "id": "375b8957",
   "metadata": {},
   "outputs": [
    {
     "name": "stdout",
     "output_type": "stream",
     "text": [
      "total error: 0.027913450770077026\n"
     ]
    }
   ],
   "source": [
    "mean_error = 0\n",
    "for i in range(len(threedpoints)):\n",
    "    imgpoints2, _ = cv2.projectPoints(threedpoints[i], r_vecs[i], t_vecs[i], matrix, distortion)\n",
    "    error = cv2.norm(twodpoints[i], imgpoints2, cv2.NORM_L2)/len(imgpoints2)\n",
    "    mean_error += error\n",
    "print( \"total error: {}\".format(mean_error/len(threedpoints)) )"
   ]
  },
  {
   "cell_type": "code",
   "execution_count": null,
   "id": "3e1778a2",
   "metadata": {},
   "outputs": [],
   "source": []
  }
 ],
 "metadata": {
  "kernelspec": {
   "display_name": "Python 3 (ipykernel)",
   "language": "python",
   "name": "python3"
  },
  "language_info": {
   "codemirror_mode": {
    "name": "ipython",
    "version": 3
   },
   "file_extension": ".py",
   "mimetype": "text/x-python",
   "name": "python",
   "nbconvert_exporter": "python",
   "pygments_lexer": "ipython3",
   "version": "3.9.7"
  }
 },
 "nbformat": 4,
 "nbformat_minor": 5
}
